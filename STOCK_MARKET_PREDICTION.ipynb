{
  "nbformat": 4,
  "nbformat_minor": 0,
  "metadata": {
    "colab": {
      "provenance": [],
      "authorship_tag": "ABX9TyNDDO9tDsNSs1+7tSP1F6RO",
      "include_colab_link": true
    },
    "kernelspec": {
      "name": "python3",
      "display_name": "Python 3"
    },
    "language_info": {
      "name": "python"
    }
  },
  "cells": [
    {
      "cell_type": "markdown",
      "metadata": {
        "id": "view-in-github",
        "colab_type": "text"
      },
      "source": [
        "<a href=\"https://colab.research.google.com/github/1903NSUDARSHAN/CodeClause/blob/main/STOCK_MARKET_PREDICTION.ipynb\" target=\"_parent\"><img src=\"https://colab.research.google.com/assets/colab-badge.svg\" alt=\"Open In Colab\"/></a>"
      ]
    },
    {
      "cell_type": "code",
      "source": [
        "import numpy as np\n",
        "import pandas as pd\n",
        "import matplotlib.pyplot as plt\n",
        "from sklearn.preprocessing import MinMaxScaler\n",
        "from keras.models import Sequential\n",
        "from keras.layers import Dense,LSTM,Dropout"
      ],
      "metadata": {
        "id": "u5DQfjRsr89D"
      },
      "execution_count": null,
      "outputs": []
    },
    {
      "cell_type": "code",
      "source": [
        "data = pd.read_csv('/content/Google_train_data.csv')\n",
        "data.head()"
      ],
      "metadata": {
        "colab": {
          "base_uri": "https://localhost:8080/",
          "height": 206
        },
        "id": "3KUdNvWMr_tI",
        "outputId": "5f8fbbba-6588-4513-dbb8-33508622e40d"
      },
      "execution_count": null,
      "outputs": [
        {
          "output_type": "execute_result",
          "data": {
            "text/plain": [
              "       Date    Open    High     Low   Close      Volume\n",
              "0  1/3/2012  325.25  332.83  324.97  663.59   7,380,500\n",
              "1  1/4/2012  331.27  333.87  329.08  666.45   5,749,400\n",
              "2  1/5/2012  329.83  330.75  326.89  657.21   6,590,300\n",
              "3  1/6/2012  328.34  328.77  323.68  648.24   5,405,900\n",
              "4  1/9/2012  322.04  322.29  309.46  620.76  11,688,800"
            ],
            "text/html": [
              "\n",
              "  <div id=\"df-5c06be4c-f929-44c5-882e-4079c4667a99\" class=\"colab-df-container\">\n",
              "    <div>\n",
              "<style scoped>\n",
              "    .dataframe tbody tr th:only-of-type {\n",
              "        vertical-align: middle;\n",
              "    }\n",
              "\n",
              "    .dataframe tbody tr th {\n",
              "        vertical-align: top;\n",
              "    }\n",
              "\n",
              "    .dataframe thead th {\n",
              "        text-align: right;\n",
              "    }\n",
              "</style>\n",
              "<table border=\"1\" class=\"dataframe\">\n",
              "  <thead>\n",
              "    <tr style=\"text-align: right;\">\n",
              "      <th></th>\n",
              "      <th>Date</th>\n",
              "      <th>Open</th>\n",
              "      <th>High</th>\n",
              "      <th>Low</th>\n",
              "      <th>Close</th>\n",
              "      <th>Volume</th>\n",
              "    </tr>\n",
              "  </thead>\n",
              "  <tbody>\n",
              "    <tr>\n",
              "      <th>0</th>\n",
              "      <td>1/3/2012</td>\n",
              "      <td>325.25</td>\n",
              "      <td>332.83</td>\n",
              "      <td>324.97</td>\n",
              "      <td>663.59</td>\n",
              "      <td>7,380,500</td>\n",
              "    </tr>\n",
              "    <tr>\n",
              "      <th>1</th>\n",
              "      <td>1/4/2012</td>\n",
              "      <td>331.27</td>\n",
              "      <td>333.87</td>\n",
              "      <td>329.08</td>\n",
              "      <td>666.45</td>\n",
              "      <td>5,749,400</td>\n",
              "    </tr>\n",
              "    <tr>\n",
              "      <th>2</th>\n",
              "      <td>1/5/2012</td>\n",
              "      <td>329.83</td>\n",
              "      <td>330.75</td>\n",
              "      <td>326.89</td>\n",
              "      <td>657.21</td>\n",
              "      <td>6,590,300</td>\n",
              "    </tr>\n",
              "    <tr>\n",
              "      <th>3</th>\n",
              "      <td>1/6/2012</td>\n",
              "      <td>328.34</td>\n",
              "      <td>328.77</td>\n",
              "      <td>323.68</td>\n",
              "      <td>648.24</td>\n",
              "      <td>5,405,900</td>\n",
              "    </tr>\n",
              "    <tr>\n",
              "      <th>4</th>\n",
              "      <td>1/9/2012</td>\n",
              "      <td>322.04</td>\n",
              "      <td>322.29</td>\n",
              "      <td>309.46</td>\n",
              "      <td>620.76</td>\n",
              "      <td>11,688,800</td>\n",
              "    </tr>\n",
              "  </tbody>\n",
              "</table>\n",
              "</div>\n",
              "    <div class=\"colab-df-buttons\">\n",
              "\n",
              "  <div class=\"colab-df-container\">\n",
              "    <button class=\"colab-df-convert\" onclick=\"convertToInteractive('df-5c06be4c-f929-44c5-882e-4079c4667a99')\"\n",
              "            title=\"Convert this dataframe to an interactive table.\"\n",
              "            style=\"display:none;\">\n",
              "\n",
              "  <svg xmlns=\"http://www.w3.org/2000/svg\" height=\"24px\" viewBox=\"0 -960 960 960\">\n",
              "    <path d=\"M120-120v-720h720v720H120Zm60-500h600v-160H180v160Zm220 220h160v-160H400v160Zm0 220h160v-160H400v160ZM180-400h160v-160H180v160Zm440 0h160v-160H620v160ZM180-180h160v-160H180v160Zm440 0h160v-160H620v160Z\"/>\n",
              "  </svg>\n",
              "    </button>\n",
              "\n",
              "  <style>\n",
              "    .colab-df-container {\n",
              "      display:flex;\n",
              "      gap: 12px;\n",
              "    }\n",
              "\n",
              "    .colab-df-convert {\n",
              "      background-color: #E8F0FE;\n",
              "      border: none;\n",
              "      border-radius: 50%;\n",
              "      cursor: pointer;\n",
              "      display: none;\n",
              "      fill: #1967D2;\n",
              "      height: 32px;\n",
              "      padding: 0 0 0 0;\n",
              "      width: 32px;\n",
              "    }\n",
              "\n",
              "    .colab-df-convert:hover {\n",
              "      background-color: #E2EBFA;\n",
              "      box-shadow: 0px 1px 2px rgba(60, 64, 67, 0.3), 0px 1px 3px 1px rgba(60, 64, 67, 0.15);\n",
              "      fill: #174EA6;\n",
              "    }\n",
              "\n",
              "    .colab-df-buttons div {\n",
              "      margin-bottom: 4px;\n",
              "    }\n",
              "\n",
              "    [theme=dark] .colab-df-convert {\n",
              "      background-color: #3B4455;\n",
              "      fill: #D2E3FC;\n",
              "    }\n",
              "\n",
              "    [theme=dark] .colab-df-convert:hover {\n",
              "      background-color: #434B5C;\n",
              "      box-shadow: 0px 1px 3px 1px rgba(0, 0, 0, 0.15);\n",
              "      filter: drop-shadow(0px 1px 2px rgba(0, 0, 0, 0.3));\n",
              "      fill: #FFFFFF;\n",
              "    }\n",
              "  </style>\n",
              "\n",
              "    <script>\n",
              "      const buttonEl =\n",
              "        document.querySelector('#df-5c06be4c-f929-44c5-882e-4079c4667a99 button.colab-df-convert');\n",
              "      buttonEl.style.display =\n",
              "        google.colab.kernel.accessAllowed ? 'block' : 'none';\n",
              "\n",
              "      async function convertToInteractive(key) {\n",
              "        const element = document.querySelector('#df-5c06be4c-f929-44c5-882e-4079c4667a99');\n",
              "        const dataTable =\n",
              "          await google.colab.kernel.invokeFunction('convertToInteractive',\n",
              "                                                    [key], {});\n",
              "        if (!dataTable) return;\n",
              "\n",
              "        const docLinkHtml = 'Like what you see? Visit the ' +\n",
              "          '<a target=\"_blank\" href=https://colab.research.google.com/notebooks/data_table.ipynb>data table notebook</a>'\n",
              "          + ' to learn more about interactive tables.';\n",
              "        element.innerHTML = '';\n",
              "        dataTable['output_type'] = 'display_data';\n",
              "        await google.colab.output.renderOutput(dataTable, element);\n",
              "        const docLink = document.createElement('div');\n",
              "        docLink.innerHTML = docLinkHtml;\n",
              "        element.appendChild(docLink);\n",
              "      }\n",
              "    </script>\n",
              "  </div>\n",
              "\n",
              "\n",
              "<div id=\"df-9d599d3a-664c-496d-8faa-396f5b812ff1\">\n",
              "  <button class=\"colab-df-quickchart\" onclick=\"quickchart('df-9d599d3a-664c-496d-8faa-396f5b812ff1')\"\n",
              "            title=\"Suggest charts.\"\n",
              "            style=\"display:none;\">\n",
              "\n",
              "<svg xmlns=\"http://www.w3.org/2000/svg\" height=\"24px\"viewBox=\"0 0 24 24\"\n",
              "     width=\"24px\">\n",
              "    <g>\n",
              "        <path d=\"M19 3H5c-1.1 0-2 .9-2 2v14c0 1.1.9 2 2 2h14c1.1 0 2-.9 2-2V5c0-1.1-.9-2-2-2zM9 17H7v-7h2v7zm4 0h-2V7h2v10zm4 0h-2v-4h2v4z\"/>\n",
              "    </g>\n",
              "</svg>\n",
              "  </button>\n",
              "\n",
              "<style>\n",
              "  .colab-df-quickchart {\n",
              "      --bg-color: #E8F0FE;\n",
              "      --fill-color: #1967D2;\n",
              "      --hover-bg-color: #E2EBFA;\n",
              "      --hover-fill-color: #174EA6;\n",
              "      --disabled-fill-color: #AAA;\n",
              "      --disabled-bg-color: #DDD;\n",
              "  }\n",
              "\n",
              "  [theme=dark] .colab-df-quickchart {\n",
              "      --bg-color: #3B4455;\n",
              "      --fill-color: #D2E3FC;\n",
              "      --hover-bg-color: #434B5C;\n",
              "      --hover-fill-color: #FFFFFF;\n",
              "      --disabled-bg-color: #3B4455;\n",
              "      --disabled-fill-color: #666;\n",
              "  }\n",
              "\n",
              "  .colab-df-quickchart {\n",
              "    background-color: var(--bg-color);\n",
              "    border: none;\n",
              "    border-radius: 50%;\n",
              "    cursor: pointer;\n",
              "    display: none;\n",
              "    fill: var(--fill-color);\n",
              "    height: 32px;\n",
              "    padding: 0;\n",
              "    width: 32px;\n",
              "  }\n",
              "\n",
              "  .colab-df-quickchart:hover {\n",
              "    background-color: var(--hover-bg-color);\n",
              "    box-shadow: 0 1px 2px rgba(60, 64, 67, 0.3), 0 1px 3px 1px rgba(60, 64, 67, 0.15);\n",
              "    fill: var(--button-hover-fill-color);\n",
              "  }\n",
              "\n",
              "  .colab-df-quickchart-complete:disabled,\n",
              "  .colab-df-quickchart-complete:disabled:hover {\n",
              "    background-color: var(--disabled-bg-color);\n",
              "    fill: var(--disabled-fill-color);\n",
              "    box-shadow: none;\n",
              "  }\n",
              "\n",
              "  .colab-df-spinner {\n",
              "    border: 2px solid var(--fill-color);\n",
              "    border-color: transparent;\n",
              "    border-bottom-color: var(--fill-color);\n",
              "    animation:\n",
              "      spin 1s steps(1) infinite;\n",
              "  }\n",
              "\n",
              "  @keyframes spin {\n",
              "    0% {\n",
              "      border-color: transparent;\n",
              "      border-bottom-color: var(--fill-color);\n",
              "      border-left-color: var(--fill-color);\n",
              "    }\n",
              "    20% {\n",
              "      border-color: transparent;\n",
              "      border-left-color: var(--fill-color);\n",
              "      border-top-color: var(--fill-color);\n",
              "    }\n",
              "    30% {\n",
              "      border-color: transparent;\n",
              "      border-left-color: var(--fill-color);\n",
              "      border-top-color: var(--fill-color);\n",
              "      border-right-color: var(--fill-color);\n",
              "    }\n",
              "    40% {\n",
              "      border-color: transparent;\n",
              "      border-right-color: var(--fill-color);\n",
              "      border-top-color: var(--fill-color);\n",
              "    }\n",
              "    60% {\n",
              "      border-color: transparent;\n",
              "      border-right-color: var(--fill-color);\n",
              "    }\n",
              "    80% {\n",
              "      border-color: transparent;\n",
              "      border-right-color: var(--fill-color);\n",
              "      border-bottom-color: var(--fill-color);\n",
              "    }\n",
              "    90% {\n",
              "      border-color: transparent;\n",
              "      border-bottom-color: var(--fill-color);\n",
              "    }\n",
              "  }\n",
              "</style>\n",
              "\n",
              "  <script>\n",
              "    async function quickchart(key) {\n",
              "      const quickchartButtonEl =\n",
              "        document.querySelector('#' + key + ' button');\n",
              "      quickchartButtonEl.disabled = true;  // To prevent multiple clicks.\n",
              "      quickchartButtonEl.classList.add('colab-df-spinner');\n",
              "      try {\n",
              "        const charts = await google.colab.kernel.invokeFunction(\n",
              "            'suggestCharts', [key], {});\n",
              "      } catch (error) {\n",
              "        console.error('Error during call to suggestCharts:', error);\n",
              "      }\n",
              "      quickchartButtonEl.classList.remove('colab-df-spinner');\n",
              "      quickchartButtonEl.classList.add('colab-df-quickchart-complete');\n",
              "    }\n",
              "    (() => {\n",
              "      let quickchartButtonEl =\n",
              "        document.querySelector('#df-9d599d3a-664c-496d-8faa-396f5b812ff1 button');\n",
              "      quickchartButtonEl.style.display =\n",
              "        google.colab.kernel.accessAllowed ? 'block' : 'none';\n",
              "    })();\n",
              "  </script>\n",
              "</div>\n",
              "    </div>\n",
              "  </div>\n"
            ]
          },
          "metadata": {},
          "execution_count": 3
        }
      ]
    },
    {
      "cell_type": "code",
      "source": [
        "data.info()"
      ],
      "metadata": {
        "colab": {
          "base_uri": "https://localhost:8080/"
        },
        "id": "SdRWR3iPsrNF",
        "outputId": "1bce9f0a-aee0-4f41-ba00-76e46615c043"
      },
      "execution_count": null,
      "outputs": [
        {
          "output_type": "stream",
          "name": "stdout",
          "text": [
            "<class 'pandas.core.frame.DataFrame'>\n",
            "RangeIndex: 1258 entries, 0 to 1257\n",
            "Data columns (total 6 columns):\n",
            " #   Column  Non-Null Count  Dtype  \n",
            "---  ------  --------------  -----  \n",
            " 0   Date    1258 non-null   object \n",
            " 1   Open    1258 non-null   float64\n",
            " 2   High    1258 non-null   float64\n",
            " 3   Low     1258 non-null   float64\n",
            " 4   Close   1258 non-null   object \n",
            " 5   Volume  1258 non-null   object \n",
            "dtypes: float64(3), object(3)\n",
            "memory usage: 59.1+ KB\n"
          ]
        }
      ]
    },
    {
      "cell_type": "code",
      "source": [
        "data[\"Close\"]=pd.to_numeric(data.Close,errors='coerce')\n",
        "data = data.dropna()\n",
        "trainData = data.iloc[:,4:5].values"
      ],
      "metadata": {
        "id": "2Dr0bDsnst-y"
      },
      "execution_count": null,
      "outputs": []
    },
    {
      "cell_type": "code",
      "source": [
        "data.info()"
      ],
      "metadata": {
        "colab": {
          "base_uri": "https://localhost:8080/"
        },
        "id": "Stbjkdtasvxg",
        "outputId": "f3241e13-12cb-4872-a87e-fb87493c9fae"
      },
      "execution_count": null,
      "outputs": [
        {
          "output_type": "stream",
          "name": "stdout",
          "text": [
            "<class 'pandas.core.frame.DataFrame'>\n",
            "Int64Index: 1149 entries, 0 to 1257\n",
            "Data columns (total 6 columns):\n",
            " #   Column  Non-Null Count  Dtype  \n",
            "---  ------  --------------  -----  \n",
            " 0   Date    1149 non-null   object \n",
            " 1   Open    1149 non-null   float64\n",
            " 2   High    1149 non-null   float64\n",
            " 3   Low     1149 non-null   float64\n",
            " 4   Close   1149 non-null   float64\n",
            " 5   Volume  1149 non-null   object \n",
            "dtypes: float64(4), object(2)\n",
            "memory usage: 62.8+ KB\n"
          ]
        }
      ]
    },
    {
      "cell_type": "code",
      "source": [
        "sc = MinMaxScaler(feature_range=(0,1))\n",
        "trainData = sc.fit_transform(trainData)\n",
        "trainData.shape"
      ],
      "metadata": {
        "colab": {
          "base_uri": "https://localhost:8080/"
        },
        "id": "5Ku3Jcw1sxdn",
        "outputId": "9e6e4baf-a6c6-45a7-8ad0-3f393a0b6d56"
      },
      "execution_count": null,
      "outputs": [
        {
          "output_type": "execute_result",
          "data": {
            "text/plain": [
              "(1149, 1)"
            ]
          },
          "metadata": {},
          "execution_count": 7
        }
      ]
    },
    {
      "cell_type": "code",
      "source": [
        "X_train = []\n",
        "y_train = []\n",
        "\n",
        "for i in range (60,1149): #60 : timestep // 1149 : length of the data\n",
        "    X_train.append(trainData[i-60:i,0])\n",
        "    y_train.append(trainData[i,0])\n",
        "\n",
        "X_train,y_train = np.array(X_train),np.array(y_train)"
      ],
      "metadata": {
        "id": "OpUXm4e1s1f7"
      },
      "execution_count": null,
      "outputs": []
    },
    {
      "cell_type": "code",
      "source": [
        "X_train = np.reshape(X_train,(X_train.shape[0],X_train.shape[1],1)) #adding the batch_size axis\n",
        "X_train.shape"
      ],
      "metadata": {
        "colab": {
          "base_uri": "https://localhost:8080/"
        },
        "id": "SzY5boHUs5kr",
        "outputId": "a0210334-d03e-421e-bd5b-10f6ad071590"
      },
      "execution_count": null,
      "outputs": [
        {
          "output_type": "execute_result",
          "data": {
            "text/plain": [
              "(1089, 60, 1)"
            ]
          },
          "metadata": {},
          "execution_count": 9
        }
      ]
    },
    {
      "cell_type": "code",
      "source": [
        "model = Sequential()\n",
        "\n",
        "model.add(LSTM(units=100, return_sequences = True, input_shape =(X_train.shape[1],1)))\n",
        "model.add(Dropout(0.2))\n",
        "\n",
        "model.add(LSTM(units=100, return_sequences = True))\n",
        "model.add(Dropout(0.2))\n",
        "\n",
        "model.add(LSTM(units=100, return_sequences = True))\n",
        "model.add(Dropout(0.2))\n",
        "\n",
        "model.add(LSTM(units=100, return_sequences = False))\n",
        "model.add(Dropout(0.2))\n",
        "\n",
        "model.add(Dense(units =1))\n",
        "model.compile(optimizer='adam',loss=\"mean_squared_error\")"
      ],
      "metadata": {
        "id": "RToWvPq4s9UU"
      },
      "execution_count": null,
      "outputs": []
    },
    {
      "cell_type": "code",
      "source": [
        "hist = model.fit(X_train, y_train, epochs = 20, batch_size = 32, verbose=2)\n"
      ],
      "metadata": {
        "colab": {
          "base_uri": "https://localhost:8080/"
        },
        "id": "p64mQkRCtAlp",
        "outputId": "b4d314f0-b5e6-458f-fe69-c76754664801"
      },
      "execution_count": null,
      "outputs": [
        {
          "output_type": "stream",
          "name": "stdout",
          "text": [
            "Epoch 1/20\n",
            "35/35 - 9s - loss: 0.0307 - 9s/epoch - 263ms/step\n",
            "Epoch 2/20\n",
            "35/35 - 4s - loss: 0.0331 - 4s/epoch - 108ms/step\n",
            "Epoch 3/20\n",
            "35/35 - 4s - loss: 0.0113 - 4s/epoch - 112ms/step\n",
            "Epoch 4/20\n",
            "35/35 - 4s - loss: 0.0091 - 4s/epoch - 103ms/step\n",
            "Epoch 5/20\n",
            "35/35 - 4s - loss: 0.0075 - 4s/epoch - 102ms/step\n",
            "Epoch 6/20\n",
            "35/35 - 4s - loss: 0.0077 - 4s/epoch - 117ms/step\n",
            "Epoch 7/20\n",
            "35/35 - 4s - loss: 0.0074 - 4s/epoch - 101ms/step\n",
            "Epoch 8/20\n",
            "35/35 - 4s - loss: 0.0068 - 4s/epoch - 102ms/step\n",
            "Epoch 9/20\n",
            "35/35 - 4s - loss: 0.0068 - 4s/epoch - 119ms/step\n",
            "Epoch 10/20\n",
            "35/35 - 4s - loss: 0.0070 - 4s/epoch - 102ms/step\n",
            "Epoch 11/20\n",
            "35/35 - 4s - loss: 0.0067 - 4s/epoch - 102ms/step\n",
            "Epoch 12/20\n",
            "35/35 - 4s - loss: 0.0063 - 4s/epoch - 120ms/step\n",
            "Epoch 13/20\n",
            "35/35 - 4s - loss: 0.0057 - 4s/epoch - 102ms/step\n",
            "Epoch 14/20\n",
            "35/35 - 3s - loss: 0.0073 - 3s/epoch - 100ms/step\n",
            "Epoch 15/20\n",
            "35/35 - 4s - loss: 0.0055 - 4s/epoch - 120ms/step\n",
            "Epoch 16/20\n",
            "35/35 - 4s - loss: 0.0051 - 4s/epoch - 103ms/step\n",
            "Epoch 17/20\n",
            "35/35 - 4s - loss: 0.0052 - 4s/epoch - 100ms/step\n",
            "Epoch 18/20\n",
            "35/35 - 4s - loss: 0.0055 - 4s/epoch - 119ms/step\n",
            "Epoch 19/20\n",
            "35/35 - 4s - loss: 0.0050 - 4s/epoch - 111ms/step\n",
            "Epoch 20/20\n",
            "35/35 - 4s - loss: 0.0048 - 4s/epoch - 108ms/step\n"
          ]
        }
      ]
    },
    {
      "cell_type": "code",
      "source": [
        "plt.plot(hist.history['loss'])\n",
        "plt.title('Training model loss')\n",
        "plt.ylabel('loss')\n",
        "plt.xlabel('epoch')\n",
        "plt.legend(['train'], loc='upper left')\n",
        "plt.show()"
      ],
      "metadata": {
        "colab": {
          "base_uri": "https://localhost:8080/",
          "height": 472
        },
        "id": "w-3Un5gStEov",
        "outputId": "5f5ce38b-7fba-4841-c8e8-b3d036ba7192"
      },
      "execution_count": null,
      "outputs": [
        {
          "output_type": "display_data",
          "data": {
            "text/plain": [
              "<Figure size 640x480 with 1 Axes>"
            ],
            "image/png": "[encoded data removed]"
          },
          "metadata": {}
        }
      ]
    },
    {
      "cell_type": "code",
      "source": [
        "testData = pd.read_csv('/content/Google_test_data.csv')\n",
        "testData[\"Close\"]=pd.to_numeric(testData.Close,errors='coerce')\n",
        "testData = testData.dropna()\n",
        "testData = testData.iloc[:,4:5]\n",
        "y_test = testData.iloc[60:,0:].values\n",
        "#input array for the model\n",
        "inputClosing = testData.iloc[:,0:].values\n",
        "inputClosing_scaled = sc.transform(inputClosing)\n",
        "inputClosing_scaled.shape\n",
        "X_test = []\n",
        "length = len(testData)\n",
        "timestep = 60\n",
        "for i in range(timestep,length):\n",
        "    X_test.append(inputClosing_scaled[i-timestep:i,0])\n",
        "X_test = np.array(X_test)\n",
        "X_test = np.reshape(X_test,(X_test.shape[0],X_test.shape[1],1))\n",
        "X_test.shape"
      ],
      "metadata": {
        "colab": {
          "base_uri": "https://localhost:8080/"
        },
        "id": "LBd1_wkZtcRl",
        "outputId": "84f621b8-ca19-42e9-d05e-b5ddfbbb6e31"
      },
      "execution_count": null,
      "outputs": [
        {
          "output_type": "execute_result",
          "data": {
            "text/plain": [
              "(192, 60, 1)"
            ]
          },
          "metadata": {},
          "execution_count": 13
        }
      ]
    },
    {
      "cell_type": "code",
      "source": [
        "y_pred = model.predict(X_test)\n",
        "y_pred"
      ],
      "metadata": {
        "colab": {
          "base_uri": "https://localhost:8080/"
        },
        "id": "mHLegEAct12R",
        "outputId": "0eefc9c5-8e85-42f9-8c0b-6fcd46b71cf8"
      },
      "execution_count": null,
      "outputs": [
        {
          "output_type": "stream",
          "name": "stdout",
          "text": [
            "6/6 [==============================] - 2s 32ms/step\n"
          ]
        },
        {
          "output_type": "execute_result",
          "data": {
            "text/plain": [
              "array([[1.1384698],\n",
              "       [1.1449544],\n",
              "       [1.1588457],\n",
              "       [1.1786637],\n",
              "       [1.1966403],\n",
              "       [1.2021617],\n",
              "       [1.1928355],\n",
              "       [1.174626 ],\n",
              "       [1.1588374],\n",
              "       [1.1505708],\n",
              "       [1.1418458],\n",
              "       [1.1303766],\n",
              "       [1.1197973],\n",
              "       [1.1102855],\n",
              "       [1.1073127],\n",
              "       [1.1114823],\n",
              "       [1.1288992],\n",
              "       [1.1582185],\n",
              "       [1.19396  ],\n",
              "       [1.2309495],\n",
              "       [1.2516824],\n",
              "       [1.2538311],\n",
              "       [1.2352726],\n",
              "       [1.202885 ],\n",
              "       [1.168955 ],\n",
              "       [1.1445456],\n",
              "       [1.1333421],\n",
              "       [1.129917 ],\n",
              "       [1.1245657],\n",
              "       [1.1165866],\n",
              "       [1.1069764],\n",
              "       [1.0952595],\n",
              "       [1.077151 ],\n",
              "       [1.0534426],\n",
              "       [1.0406166],\n",
              "       [1.046363 ],\n",
              "       [1.0672476],\n",
              "       [1.0951164],\n",
              "       [1.1239583],\n",
              "       [1.1429434],\n",
              "       [1.1587317],\n",
              "       [1.1744531],\n",
              "       [1.1912419],\n",
              "       [1.2069381],\n",
              "       [1.2179643],\n",
              "       [1.2198453],\n",
              "       [1.2099752],\n",
              "       [1.1978271],\n",
              "       [1.1903884],\n",
              "       [1.191465 ],\n",
              "       [1.2015711],\n",
              "       [1.2114805],\n",
              "       [1.2167315],\n",
              "       [1.2161686],\n",
              "       [1.2147526],\n",
              "       [1.210892 ],\n",
              "       [1.2024386],\n",
              "       [1.1962947],\n",
              "       [1.201524 ],\n",
              "       [1.2174034],\n",
              "       [1.2432083],\n",
              "       [1.2762508],\n",
              "       [1.3035119],\n",
              "       [1.3140363],\n",
              "       [1.3060069],\n",
              "       [1.2849402],\n",
              "       [1.2645944],\n",
              "       [1.2521702],\n",
              "       [1.2492868],\n",
              "       [1.2520084],\n",
              "       [1.2576114],\n",
              "       [1.2627826],\n",
              "       [1.2622243],\n",
              "       [1.2582909],\n",
              "       [1.2535849],\n",
              "       [1.2511437],\n",
              "       [1.2520378],\n",
              "       [1.2564179],\n",
              "       [1.2674767],\n",
              "       [1.2853224],\n",
              "       [1.3093067],\n",
              "       [1.3340607],\n",
              "       [1.3510226],\n",
              "       [1.3565272],\n",
              "       [1.3593069],\n",
              "       [1.3676505],\n",
              "       [1.3820541],\n",
              "       [1.396809 ],\n",
              "       [1.4069295],\n",
              "       [1.410313 ],\n",
              "       [1.4109281],\n",
              "       [1.416889 ],\n",
              "       [1.430818 ],\n",
              "       [1.4431512],\n",
              "       [1.4452465],\n",
              "       [1.4342061],\n",
              "       [1.41123  ],\n",
              "       [1.3816565],\n",
              "       [1.3538052],\n",
              "       [1.3384001],\n",
              "       [1.339318 ],\n",
              "       [1.3544797],\n",
              "       [1.3794909],\n",
              "       [1.4055318],\n",
              "       [1.4253005],\n",
              "       [1.4342777],\n",
              "       [1.4341584],\n",
              "       [1.4289732],\n",
              "       [1.4252862],\n",
              "       [1.4261597],\n",
              "       [1.4323267],\n",
              "       [1.443703 ],\n",
              "       [1.4573015],\n",
              "       [1.472528 ],\n",
              "       [1.4907271],\n",
              "       [1.507328 ],\n",
              "       [1.5204041],\n",
              "       [1.530663 ],\n",
              "       [1.5415386],\n",
              "       [1.5279049],\n",
              "       [1.4821756],\n",
              "       [1.4154589],\n",
              "       [1.35201  ],\n",
              "       [1.3084844],\n",
              "       [1.2865351],\n",
              "       [1.2810054],\n",
              "       [1.2854081],\n",
              "       [1.2953424],\n",
              "       [1.3002405],\n",
              "       [1.2947183],\n",
              "       [1.291099 ],\n",
              "       [1.2989649],\n",
              "       [1.3146195],\n",
              "       [1.3268793],\n",
              "       [1.3330493],\n",
              "       [1.3341991],\n",
              "       [1.3299713],\n",
              "       [1.3204029],\n",
              "       [1.3080777],\n",
              "       [1.2921765],\n",
              "       [1.2751358],\n",
              "       [1.2570413],\n",
              "       [1.2252548],\n",
              "       [1.1849024],\n",
              "       [1.1434693],\n",
              "       [1.1093464],\n",
              "       [1.092141 ],\n",
              "       [1.0965054],\n",
              "       [1.1183707],\n",
              "       [1.1490877],\n",
              "       [1.1824235],\n",
              "       [1.2119194],\n",
              "       [1.234879 ],\n",
              "       [1.2523975],\n",
              "       [1.2645885],\n",
              "       [1.2733097],\n",
              "       [1.2813476],\n",
              "       [1.2875253],\n",
              "       [1.284273 ],\n",
              "       [1.2691495],\n",
              "       [1.245102 ],\n",
              "       [1.2193077],\n",
              "       [1.2013779],\n",
              "       [1.1977376],\n",
              "       [1.2095934],\n",
              "       [1.2340833],\n",
              "       [1.2609397],\n",
              "       [1.2841227],\n",
              "       [1.3036424],\n",
              "       [1.3197961],\n",
              "       [1.3320013],\n",
              "       [1.340678 ],\n",
              "       [1.3464587],\n",
              "       [1.3477776],\n",
              "       [1.3445467],\n",
              "       [1.3343618],\n",
              "       [1.3205986],\n",
              "       [1.3089122],\n",
              "       [1.3002664],\n",
              "       [1.2934419],\n",
              "       [1.3143208],\n",
              "       [1.3628286],\n",
              "       [1.4216503],\n",
              "       [1.4714222],\n",
              "       [1.4995738],\n",
              "       [1.5008943],\n",
              "       [1.4708046],\n",
              "       [1.423552 ],\n",
              "       [1.37575  ],\n",
              "       [1.3458145],\n",
              "       [1.3347567],\n",
              "       [1.3347912]], dtype=float32)"
            ]
          },
          "metadata": {},
          "execution_count": 14
        }
      ]
    },
    {
      "cell_type": "code",
      "source": [
        "predicted_price = sc.inverse_transform(y_pred)"
      ],
      "metadata": {
        "id": "cxxMk9s8t5Jk"
      },
      "execution_count": null,
      "outputs": []
    },
    {
      "cell_type": "code",
      "source": [
        "plt.plot(y_test, color = 'red', label = 'Actual Stock Price')\n",
        "plt.plot(predicted_price, color = 'green', label = 'Predicted Stock Price')\n",
        "plt.title('Google stock price prediction')\n",
        "plt.xlabel('Time')\n",
        "plt.ylabel('Stock Price')\n",
        "plt.legend()\n",
        "plt.show()"
      ],
      "metadata": {
        "colab": {
          "base_uri": "https://localhost:8080/",
          "height": 472
        },
        "id": "hlexIymPt-XW",
        "outputId": "83bdcbb3-a0ee-4e15-edeb-46a9de051e3b"
      },
      "execution_count": null,
      "outputs": [
        {
          "output_type": "display_data",
          "data": {
            "text/plain": [
              "<Figure size 640x480 with 1 Axes>"
            ],
            "image/png": "[encoded data removed]"
          },
          "metadata": {}
        }
      ]
    },
    {
      "cell_type": "code",
      "source": [],
      "metadata": {
        "id": "CfIVWggjuCqY"
      },
      "execution_count": null,
      "outputs": []
    }
  ]
}